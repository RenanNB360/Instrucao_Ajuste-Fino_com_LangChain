{
 "cells": [
  {
   "cell_type": "markdown",
   "id": "e37ee462-9b1b-42ef-8d28-270ecdda1999",
   "metadata": {},
   "source": [
    "# Importações"
   ]
  },
  {
   "cell_type": "code",
   "execution_count": 1,
   "id": "981fbf88-f869-4a83-b326-ff5b3ac5fdf1",
   "metadata": {},
   "outputs": [
    {
     "name": "stderr",
     "output_type": "stream",
     "text": [
      "/home/renan/anaconda3/envs/nlpdsa/lib/python3.12/site-packages/tqdm/auto.py:21: TqdmWarning: IProgress not found. Please update jupyter and ipywidgets. See https://ipywidgets.readthedocs.io/en/stable/user_install.html\n",
      "  from .autonotebook import tqdm as notebook_tqdm\n"
     ]
    }
   ],
   "source": [
    "import torch\n",
    "from trl import SFTTrainer\n",
    "from datasets import load_dataset\n",
    "from transformers import AutoModelForCausalLM, AutoTokenizer, BitsAndBytesConfig\n",
    "from transformers import pipeline, TrainingArguments\n",
    "from peft import AutoPeftModelForCausalLM, LoraConfig, get_peft_model, prepare_model_for_kbit_training\n",
    "from langchain_community.llms.huggingface_pipeline import HuggingFacePipeline\n",
    "from langchain.prompts import PromptTemplate\n",
    "from langchain.memory import ConversationBufferMemory\n",
    "from langchain.chains import LLMChain\n",
    "import warnings\n",
    "warnings.filterwarnings('ignore')"
   ]
  },
  {
   "cell_type": "markdown",
   "id": "1135e411-dd40-4ef7-ac67-4c5bed573dba",
   "metadata": {},
   "source": [
    "# Carregando o Dataset para o Instruction Fine-Tuning"
   ]
  },
  {
   "cell_type": "code",
   "execution_count": 2,
   "id": "2b9aa873-231d-4807-a4bd-f2c218ef0bb3",
   "metadata": {},
   "outputs": [],
   "source": [
    "dataset = load_dataset('nlpie/Llama2-MedTuned-Instructions')"
   ]
  },
  {
   "cell_type": "code",
   "execution_count": 3,
   "id": "b052c1b8-e772-4f75-a4ec-033c169371a9",
   "metadata": {},
   "outputs": [],
   "source": [
    "data_train = dataset['train'].select(indices= range(1000))"
   ]
  },
  {
   "cell_type": "code",
   "execution_count": 4,
   "id": "65e2279f-697e-4e47-9800-089fb4af7a4e",
   "metadata": {},
   "outputs": [
    {
     "data": {
      "text/plain": [
       "Dataset({\n",
       "    features: ['instruction', 'input', 'output', 'source'],\n",
       "    num_rows: 1000\n",
       "})"
      ]
     },
     "execution_count": 4,
     "metadata": {},
     "output_type": "execute_result"
    }
   ],
   "source": [
    "data_train"
   ]
  },
  {
   "cell_type": "code",
   "execution_count": 5,
   "id": "4c49cfe5-4a27-47f8-9cd2-6876cea273db",
   "metadata": {},
   "outputs": [],
   "source": [
    "data_test = dataset['train'].select(indices = range(1000, 1200))"
   ]
  },
  {
   "cell_type": "code",
   "execution_count": 6,
   "id": "dd75d3d8-b043-4051-87e7-9a262e81ba08",
   "metadata": {},
   "outputs": [
    {
     "data": {
      "text/plain": [
       "Dataset({\n",
       "    features: ['instruction', 'input', 'output', 'source'],\n",
       "    num_rows: 200\n",
       "})"
      ]
     },
     "execution_count": 6,
     "metadata": {},
     "output_type": "execute_result"
    }
   ],
   "source": [
    "data_test"
   ]
  },
  {
   "cell_type": "markdown",
   "id": "79d62bcd-3bad-4d4d-b999-10ce2264d4e9",
   "metadata": {},
   "source": [
    "# Compreendendo o Formato dos Dados de Textoabs"
   ]
  },
  {
   "cell_type": "code",
   "execution_count": 7,
   "id": "fcbf3630-4e23-4d7e-8967-5bdfd9e228b5",
   "metadata": {},
   "outputs": [
    {
     "name": "stdout",
     "output_type": "stream",
     "text": [
      "Ponto de Dado 1:\n",
      "Instruction: In your role as a medical professional, address the user's medical questions and concerns.\n",
      "Input: My relative suffering from secondary lever cancer ( 4th stage as per Allopathic doctor) and primary is in rectum. He is continuously with 103 to 104 degree F fever. Allpathic doctor suggested chemo only after fever subsidises. Is treatment possible at Lavanya & what is the time scale of recover.\n",
      "Output: Hi, dairy have gone through your question. I can understand your concern. He has rectal cancer with liver metastasis. It is stage 4 cancer. Surgery is not possible at this stage. Only treatment options are chemotherapy and radiotherapy according to type of cancer. Inspite of all treatment prognosis is poor. Life expectancy is not good. Consult your doctor and plan accordingly. Hope I have answered your question, if you have any doubts then contact me at bit.ly/ Chat Doctor. Thanks for using Chat Doctor. Wish you a very good health.\n",
      "\n",
      "---------------------------------------------------\n",
      "\n",
      "Ponto de Dado 2:\n",
      "Instruction: Your role as a doctor requires you to answer the medical questions taking into account the patient's description.\n",
      "Analyze the question given its context. Give both long answer and yes/no decision.\n",
      "Input: ###Question: Are fibrocytes involved in inflammation as well as fibrosis in the pathogenesis of Crohn 's disease?\n",
      "###Context: We previously showed that fibrocytes, a hematopoietic stem cell source of fibroblasts/myofibroblasts, infiltrated the colonic mucosa of a murine colitis model. We investigated whether fibrocytes were involved in the pathogenesis of Crohn's disease. Human surgical intestinal specimens were stained with anti-leukocyte-specific protein 1 and anti-collagen type-I (ColI) antibodies. Circulating fibrocytes in the human peripheral blood were quantified by fluorescence-activated cell sorting with anti-CD45 and anti-ColI antibodies. Cultured human fibrocytes were prepared by culturing peripheral CD14(+) monocytes. In the specimens of patients with Crohn's disease, the fibrocyte/total leukocyte percentage was significantly increased in inflammatory lesions (22.2 %, p < 0.01) compared with that in non-affected areas of the intestine (2.5 %). Interestingly, the percentage in fibrotic lesions was similar (2.2 %, p = 0.87) to that in non-affected areas. The percentages of circulating fibrocytes/total leukocytes were significantly higher in patients with Crohn's disease than in healthy controls. Both CXC-chemokine receptor 4(+) and intercellular adhesion molecule 1(+) fibrocyte numbers were significantly increased in Crohn's disease, suggesting that circulating fibrocytes have a higher ability to infiltrate injured sites and traffic leukocytes. In cultured fibrocytes, lipopolysaccharide treatment remarkably upregulated tumor necrosis factor (TNF)-α mRNA (17.0 ± 5.7-fold) and ColI mRNA expression (12.8 ± 5.7-fold), indicating that fibrocytes stimulated by bacterial components directly augmented inflammation as well as fibrosis.\n",
      "Output: Fibrocytes are recruited early in the inflammatory phase and likely differentiate into fibroblasts/myofibroblasts until the fibrosis phase. They may enhance inflammation by producing TNF-α and can directly augment fibrosis by producing ColI.\n",
      "\n",
      "###Answer: yes\n",
      "\n",
      "---------------------------------------------------\n",
      "\n",
      "Ponto de Dado 3:\n",
      "Instruction: Your identity is a doctor, kindly provide answers to the medical questions with consideration of the patient's description.\n",
      "Analyze the question and answer with the best option.\n",
      "Input: ###Question: Afterhyperpolarization due to\n",
      "###Options:\n",
      "A. Na efflux\n",
      "B. Na+ influx\n",
      "C. CI influx\n",
      "D. K+ efflux\n",
      "\n",
      "Output: ###Rationale: Slow return of the K+ channels to the closed state thus K+ efflux.(Ref: Textbook of physiology AK Jain 5th edition page no.36)\n",
      "\n",
      "###Answer: OPTION D IS CORRECT.\n",
      "\n",
      "---------------------------------------------------\n",
      "\n"
     ]
    }
   ],
   "source": [
    "for i in range(3):\n",
    "    data = dataset['train'][i]\n",
    "    print(f'Ponto de Dado {i + 1}:')\n",
    "    print(f'Instruction: {data['instruction']}')\n",
    "    print(f'Input: {data['input']}')\n",
    "    print(f'Output: {data['output']}')\n",
    "    print('\\n---------------------------------------------------\\n')"
   ]
  },
  {
   "cell_type": "markdown",
   "id": "c4cbcf40-2419-4226-803a-3dd26c99f3be",
   "metadata": {},
   "source": [
    "# Automatizando a Criação dos Prompts para Treinamento do Modelo"
   ]
  },
  {
   "cell_type": "code",
   "execution_count": 8,
   "id": "945f712c-2c8d-43d5-8556-ae968ff5b7dd",
   "metadata": {},
   "outputs": [],
   "source": [
    "def cria_prompt(sample):\n",
    "\n",
    "    pre_prompt = \"\"\"[INST]<<SYS>> {instruction}\\n\"\"\"\n",
    "    prompt = pre_prompt + '{input}' + '[/INST]'+'\\n{output}'\n",
    "\n",
    "    example_instruction = sample['instruction']\n",
    "    example_input = sample['input']\n",
    "    example_output = sample['output']\n",
    "\n",
    "    prompt_template = PromptTemplate(template= prompt,\n",
    "                                     input_variables= ['instruction', 'input', 'output'])\n",
    "    prompt_unico = prompt_template.format(instruction = example_instruction,\n",
    "                                          input = example_input,\n",
    "                                          output = example_output)\n",
    "\n",
    "    return prompt_unico"
   ]
  },
  {
   "cell_type": "code",
   "execution_count": 9,
   "id": "03ce1e7e-d49a-4d42-936f-f1c5620da2f8",
   "metadata": {},
   "outputs": [
    {
     "name": "stdout",
     "output_type": "stream",
     "text": [
      "[INST]<<SYS>> In your role as a medical professional, address the user's medical questions and concerns.\n",
      "My relative suffering from secondary lever cancer ( 4th stage as per Allopathic doctor) and primary is in rectum. He is continuously with 103 to 104 degree F fever. Allpathic doctor suggested chemo only after fever subsidises. Is treatment possible at Lavanya & what is the time scale of recover.[/INST]\n",
      "Hi, dairy have gone through your question. I can understand your concern. He has rectal cancer with liver metastasis. It is stage 4 cancer. Surgery is not possible at this stage. Only treatment options are chemotherapy and radiotherapy according to type of cancer. Inspite of all treatment prognosis is poor. Life expectancy is not good. Consult your doctor and plan accordingly. Hope I have answered your question, if you have any doubts then contact me at bit.ly/ Chat Doctor. Thanks for using Chat Doctor. Wish you a very good health.\n"
     ]
    }
   ],
   "source": [
    "prompt = cria_prompt(data_train[0])\n",
    "print(prompt)"
   ]
  },
  {
   "cell_type": "code",
   "execution_count": 10,
   "id": "37709bf8-7703-4ae7-921f-ee04e7f24370",
   "metadata": {},
   "outputs": [
    {
     "name": "stdout",
     "output_type": "stream",
     "text": [
      "[INST]<<SYS>> In the clinical text, your objective is to identify relationships between medical problems, treatments, and tests. Medical problems are tagged as @problem$, medical tests as @test$, and treatments as @treatment$. Classify the relationship between two entities as one of the following:\n",
      "Treatment improves medical problem (TrIP)\n",
      "Treatment worsens medical problem (TrWP)\n",
      "Treatment causes medical problem (TrCP)\n",
      "Treatment is administered for medical problem (TrAP)\n",
      "Treatment is not administered because of medical problem (TrNAP)\n",
      "Test reveals medical problem (TeRP)\n",
      "Test conducted to investigate medical problem (TeCP)\n",
      "Medical problem indicates medical problem (PIP)\n",
      "No Relations\n",
      "Include @treatment$ 50 mgs bid , Aricept 10 mgs qhs , @treatment$ 15 mgs bid , Trazodone 100 mgs qhs .[/INST]\n",
      "No Relations\n"
     ]
    }
   ],
   "source": [
    "prompt = cria_prompt(data_test[0])\n",
    "print(prompt)"
   ]
  },
  {
   "cell_type": "markdown",
   "id": "70ce6cf7-d618-4537-bc0b-a545b2af2faf",
   "metadata": {},
   "source": [
    "# Processo de Quantização"
   ]
  },
  {
   "cell_type": "code",
   "execution_count": 11,
   "id": "4ce0752a-24f7-438d-96b7-ebe7a94f542b",
   "metadata": {},
   "outputs": [],
   "source": [
    "use_4bit = True"
   ]
  },
  {
   "cell_type": "code",
   "execution_count": 12,
   "id": "b51bfa90-0bb7-4528-8515-20a2a6e9c817",
   "metadata": {},
   "outputs": [],
   "source": [
    "bnb_4bit_compute_dtype = 'float16'"
   ]
  },
  {
   "cell_type": "code",
   "execution_count": 13,
   "id": "61ad2473-44e6-45e6-a5e1-c6c9c305785d",
   "metadata": {},
   "outputs": [],
   "source": [
    "bnb_4bit_quant_type = 'nf4'"
   ]
  },
  {
   "cell_type": "code",
   "execution_count": 14,
   "id": "42c0125d-922f-4583-9664-12c94dd4c9ec",
   "metadata": {},
   "outputs": [],
   "source": [
    "use_nested_quant = False"
   ]
  },
  {
   "cell_type": "code",
   "execution_count": 15,
   "id": "0582afb4-10c4-43ba-b7b9-921618c0ef27",
   "metadata": {},
   "outputs": [],
   "source": [
    "compute_dtype = getattr(torch, bnb_4bit_compute_dtype)"
   ]
  },
  {
   "cell_type": "code",
   "execution_count": 16,
   "id": "ded9129f-744a-40fe-b27e-db14f9e08de4",
   "metadata": {},
   "outputs": [],
   "source": [
    "bnb_config = BitsAndBytesConfig(load_in_4bit= use_4bit,\n",
    "                                bnb_4bit_quant_type= bnb_4bit_quant_type,\n",
    "                                bnb_4bit_compute_dtype= compute_dtype,\n",
    "                                bnb_4bit_use_double_quant= use_nested_quant)"
   ]
  },
  {
   "cell_type": "code",
   "execution_count": 17,
   "id": "6e6b1957-c9d7-4bba-b04e-86f20092c512",
   "metadata": {},
   "outputs": [
    {
     "name": "stdout",
     "output_type": "stream",
     "text": [
      "================================================================================\n",
      "A GPU suporta bfloat16. Acelere o treinamento usando bf16=True\n",
      "================================================================================\n"
     ]
    }
   ],
   "source": [
    "if compute_dtype == torch.float16 and use_4bit:\n",
    "    major, _ = torch.cuda.get_device_capability()\n",
    "    if major >= 8:\n",
    "        print('=' * 80)\n",
    "        print('A GPU suporta bfloat16. Acelere o treinamento usando bf16=True')\n",
    "        print('=' * 80)"
   ]
  },
  {
   "cell_type": "markdown",
   "id": "73a0d91b-3328-49b9-8eba-adb5200415bb",
   "metadata": {},
   "source": [
    "# Carregando o LLM e o Tokenizador"
   ]
  },
  {
   "cell_type": "code",
   "execution_count": 18,
   "id": "d29505b6-b41a-4caa-a7d1-55f38fc252a2",
   "metadata": {},
   "outputs": [],
   "source": [
    "llm = 'NousResearch/Llama-2-7b-chat-hf'"
   ]
  },
  {
   "cell_type": "code",
   "execution_count": 19,
   "id": "5b731e02-3dff-41af-b9c2-b00158ba533e",
   "metadata": {},
   "outputs": [],
   "source": [
    "tokenizer = AutoTokenizer.from_pretrained('NousResearch/Llama-2-7b-chat-hf')"
   ]
  },
  {
   "cell_type": "code",
   "execution_count": 20,
   "id": "74146561-371a-4cbe-9e37-98775491b1c9",
   "metadata": {},
   "outputs": [
    {
     "name": "stderr",
     "output_type": "stream",
     "text": [
      "Loading checkpoint shards: 100%|█████████████████████████████████████████████████████████████████████████████████████████████████████████████████████████████████████████████████████| 2/2 [00:12<00:00,  6.09s/it]\n"
     ]
    }
   ],
   "source": [
    "model = AutoModelForCausalLM.from_pretrained(llm,\n",
    "                                             quantization_config = bnb_config,\n",
    "                                             device_map = 'auto',\n",
    "                                             use_cache = False)"
   ]
  },
  {
   "cell_type": "code",
   "execution_count": 21,
   "id": "d8ccc1e5-cfb4-40f4-a7e8-d02ca8505aef",
   "metadata": {},
   "outputs": [],
   "source": [
    "tokenizer.pad_token = tokenizer.eos_token"
   ]
  },
  {
   "cell_type": "code",
   "execution_count": 22,
   "id": "acd46181-d22c-4fdc-8f58-5f6b0932a4b8",
   "metadata": {},
   "outputs": [],
   "source": [
    "tokenizer.padding_side = 'right'"
   ]
  },
  {
   "cell_type": "markdown",
   "id": "e264d606-39d7-4d95-ba31-277ca0b47c5f",
   "metadata": {},
   "source": [
    "# Configurando Adaptadores LoRa"
   ]
  },
  {
   "cell_type": "code",
   "execution_count": 23,
   "id": "28604d6a-d9ef-4624-9156-ac134d970008",
   "metadata": {},
   "outputs": [],
   "source": [
    "peft_config = LoraConfig(r = 8,\n",
    "                         lora_alpha= 16,\n",
    "                         lora_dropout= 0.05,\n",
    "                         bias = 'none',\n",
    "                         task_type= 'CAUSAL_LM')"
   ]
  },
  {
   "cell_type": "code",
   "execution_count": 24,
   "id": "79784a30-3ac3-4ba6-ab41-acfa6bfdec20",
   "metadata": {},
   "outputs": [],
   "source": [
    "lora_model = prepare_model_for_kbit_training(model)"
   ]
  },
  {
   "cell_type": "code",
   "execution_count": 25,
   "id": "adbdb216-c640-4891-8aba-ffab9bcb33d0",
   "metadata": {},
   "outputs": [],
   "source": [
    "lora_model = get_peft_model(lora_model, peft_config)"
   ]
  },
  {
   "cell_type": "markdown",
   "id": "5ef6f316-c22a-4afb-9ba3-7252ef89d25b",
   "metadata": {},
   "source": [
    "# Parâmetros de Ajuste Fino"
   ]
  },
  {
   "cell_type": "code",
   "execution_count": 26,
   "id": "eec7680b-0ba7-4536-bcfc-952888db5f88",
   "metadata": {},
   "outputs": [],
   "source": [
    "output_model = 'modelo_ajustado'"
   ]
  },
  {
   "cell_type": "code",
   "execution_count": 27,
   "id": "eae2207e-4345-4b4b-ba7b-2e008bde3d4b",
   "metadata": {},
   "outputs": [],
   "source": [
    "training_arguments = TrainingArguments(output_dir= output_model,\n",
    "                                       per_device_train_batch_size= 1,\n",
    "                                       gradient_accumulation_steps= 4,\n",
    "                                       optim = 'paged_adamw_32bit',\n",
    "                                       learning_rate = 2e-4,\n",
    "                                       lr_scheduler_type= 'cosine',\n",
    "                                       save_strategy= 'epoch',\n",
    "                                       logging_steps= 10,\n",
    "                                       num_train_epochs= 3,\n",
    "                                       max_steps= 150,\n",
    "                                       fp16= True)"
   ]
  },
  {
   "cell_type": "code",
   "execution_count": 28,
   "id": "7eb5fffc-22b4-4142-927f-2430cb125dee",
   "metadata": {},
   "outputs": [
    {
     "name": "stderr",
     "output_type": "stream",
     "text": [
      "max_steps is given, it will override any value given in num_train_epochs\n"
     ]
    }
   ],
   "source": [
    "trainer = SFTTrainer(model = lora_model,\n",
    "                     peft_config= peft_config,\n",
    "                     max_seq_length= 512,\n",
    "                     tokenizer = tokenizer,\n",
    "                     packing = True,\n",
    "                     formatting_func= cria_prompt,\n",
    "                     args= training_arguments,\n",
    "                     train_dataset= data_train,\n",
    "                     eval_dataset= data_test)"
   ]
  },
  {
   "cell_type": "markdown",
   "id": "d4c08c06-12ee-4a0d-b2c1-74a6df8abdd1",
   "metadata": {},
   "source": [
    "# Treinamento do Ajuste Fino"
   ]
  },
  {
   "cell_type": "code",
   "execution_count": 29,
   "id": "ad99cd45-7862-48b1-821d-d5a22a2bc534",
   "metadata": {},
   "outputs": [
    {
     "data": {
      "text/html": [
       "\n",
       "    <div>\n",
       "      \n",
       "      <progress value='150' max='150' style='width:300px; height:20px; vertical-align: middle;'></progress>\n",
       "      [150/150 19:24, Epoch 1/2]\n",
       "    </div>\n",
       "    <table border=\"1\" class=\"dataframe\">\n",
       "  <thead>\n",
       " <tr style=\"text-align: left;\">\n",
       "      <th>Step</th>\n",
       "      <th>Training Loss</th>\n",
       "    </tr>\n",
       "  </thead>\n",
       "  <tbody>\n",
       "    <tr>\n",
       "      <td>10</td>\n",
       "      <td>2.624100</td>\n",
       "    </tr>\n",
       "    <tr>\n",
       "      <td>20</td>\n",
       "      <td>2.210800</td>\n",
       "    </tr>\n",
       "    <tr>\n",
       "      <td>30</td>\n",
       "      <td>1.956300</td>\n",
       "    </tr>\n",
       "    <tr>\n",
       "      <td>40</td>\n",
       "      <td>1.840200</td>\n",
       "    </tr>\n",
       "    <tr>\n",
       "      <td>50</td>\n",
       "      <td>1.691300</td>\n",
       "    </tr>\n",
       "    <tr>\n",
       "      <td>60</td>\n",
       "      <td>1.788400</td>\n",
       "    </tr>\n",
       "    <tr>\n",
       "      <td>70</td>\n",
       "      <td>1.423500</td>\n",
       "    </tr>\n",
       "    <tr>\n",
       "      <td>80</td>\n",
       "      <td>1.567900</td>\n",
       "    </tr>\n",
       "    <tr>\n",
       "      <td>90</td>\n",
       "      <td>1.416700</td>\n",
       "    </tr>\n",
       "    <tr>\n",
       "      <td>100</td>\n",
       "      <td>1.474700</td>\n",
       "    </tr>\n",
       "    <tr>\n",
       "      <td>110</td>\n",
       "      <td>1.416800</td>\n",
       "    </tr>\n",
       "    <tr>\n",
       "      <td>120</td>\n",
       "      <td>1.467700</td>\n",
       "    </tr>\n",
       "    <tr>\n",
       "      <td>130</td>\n",
       "      <td>1.482800</td>\n",
       "    </tr>\n",
       "    <tr>\n",
       "      <td>140</td>\n",
       "      <td>1.535500</td>\n",
       "    </tr>\n",
       "    <tr>\n",
       "      <td>150</td>\n",
       "      <td>1.256300</td>\n",
       "    </tr>\n",
       "  </tbody>\n",
       "</table><p>"
      ],
      "text/plain": [
       "<IPython.core.display.HTML object>"
      ]
     },
     "metadata": {},
     "output_type": "display_data"
    },
    {
     "data": {
      "text/plain": [
       "TrainOutput(global_step=150, training_loss=1.676869862874349, metrics={'train_runtime': 1173.1661, 'train_samples_per_second': 0.511, 'train_steps_per_second': 0.128, 'total_flos': 1.2186386694144e+16, 'train_loss': 1.676869862874349, 'epoch': 1.0507880910683012})"
      ]
     },
     "execution_count": 29,
     "metadata": {},
     "output_type": "execute_result"
    }
   ],
   "source": [
    "trainer.train()"
   ]
  },
  {
   "cell_type": "code",
   "execution_count": 30,
   "id": "29c51e76-f0e1-441b-9b42-49ea66fcd72b",
   "metadata": {},
   "outputs": [],
   "source": [
    "trainer.save_model('modelo_final')"
   ]
  },
  {
   "cell_type": "code",
   "execution_count": 31,
   "id": "329f7adf-89ec-4484-9124-87198e83b7d1",
   "metadata": {},
   "outputs": [],
   "source": [
    "merged_model = lora_model.merge_and_unload()"
   ]
  },
  {
   "cell_type": "markdown",
   "id": "0a829e5c-2224-4601-8e0f-cb98a5731b36",
   "metadata": {},
   "source": [
    "# Construindo o Pipeline de Geração de Texto com LangChain"
   ]
  },
  {
   "cell_type": "code",
   "execution_count": 32,
   "id": "cfc50b71-21a4-480b-bfd9-2deedce8d18b",
   "metadata": {},
   "outputs": [],
   "source": [
    "pre_prompt = \"\"\"[INST] <<SYS>>\\nAnalyse the question and answer with the best option.\\n\"\"\""
   ]
  },
  {
   "cell_type": "code",
   "execution_count": 33,
   "id": "ec48c5a2-ac4f-446d-8c43-bebc1346d594",
   "metadata": {},
   "outputs": [],
   "source": [
    "prompt = pre_prompt + \"Here is my question {context}\" + \"[\\INST]\""
   ]
  },
  {
   "cell_type": "code",
   "execution_count": 34,
   "id": "0e66d26f-d1c8-43b6-9f72-96345a85da8a",
   "metadata": {},
   "outputs": [],
   "source": [
    "prompt = PromptTemplate(template= prompt, input_variables= ['context'])"
   ]
  },
  {
   "cell_type": "code",
   "execution_count": 46,
   "id": "ab3a2d85-8746-4c81-bda8-f8c9895f52f4",
   "metadata": {},
   "outputs": [],
   "source": [
    "pipe = pipeline('text-generation',\n",
    "                model = merged_model,\n",
    "                tokenizer = tokenizer,\n",
    "                max_new_tokens = 512,\n",
    "                use_cache = False,\n",
    "                do_sample = True,\n",
    "                pad_token_id = tokenizer.eos_token_id,\n",
    "                top_p = 0.7,\n",
    "                temperature = 0.5)"
   ]
  },
  {
   "cell_type": "code",
   "execution_count": 47,
   "id": "ed569f12-9772-4f8f-a50a-3a8923c75047",
   "metadata": {},
   "outputs": [],
   "source": [
    "llm_pipeline = HuggingFacePipeline(pipeline= pipe)"
   ]
  },
  {
   "cell_type": "markdown",
   "id": "a3191d46-7bdf-4b0d-8c0a-334ff619e6ed",
   "metadata": {},
   "source": [
    "# Criando a LLM Chain"
   ]
  },
  {
   "cell_type": "code",
   "execution_count": 48,
   "id": "39593368-55c4-4118-8b5c-2a3407dd3524",
   "metadata": {},
   "outputs": [],
   "source": [
    "memory = ConversationBufferMemory()"
   ]
  },
  {
   "cell_type": "code",
   "execution_count": 49,
   "id": "759a282a-7339-4c2c-8cbf-b6389c0f94fb",
   "metadata": {},
   "outputs": [],
   "source": [
    "chat_llm_chain = LLMChain(llm = llm_pipeline,\n",
    "                          prompt= prompt,\n",
    "                          verbose = False,\n",
    "                          memory= memory)"
   ]
  },
  {
   "cell_type": "markdown",
   "id": "69537a1a-4d52-4728-bfbd-eb702fe85249",
   "metadata": {},
   "source": [
    "# Deploy do Modelo e Uso do Sistema de Perguntas e Respostas"
   ]
  },
  {
   "cell_type": "code",
   "execution_count": 50,
   "id": "e443bbf8-4bb0-4abf-a6c6-93134cd0050a",
   "metadata": {},
   "outputs": [],
   "source": [
    "contexto = '''###Question: All of the following provisions are included in the Primary health care according to the Alma Ata declaration except:\n",
    "###Options:\n",
    "A. Adequate supply of safe drinking water\n",
    "B. Nutrition\n",
    "C. Provision of free medicines\n",
    "D. Basic sanitation'''"
   ]
  },
  {
   "cell_type": "code",
   "execution_count": 51,
   "id": "96fcc229-8d70-49a7-a349-4d77d0793743",
   "metadata": {},
   "outputs": [
    {
     "name": "stderr",
     "output_type": "stream",
     "text": [
      "Starting from v4.46, the `logits` model output will have the same type as the model (except at train time, where it will always be FP32)\n"
     ]
    },
    {
     "name": "stdout",
     "output_type": "stream",
     "text": [
      "CPU times: user 5min 24s, sys: 1min 56s, total: 7min 21s\n",
      "Wall time: 7min 21s\n"
     ]
    },
    {
     "data": {
      "text/plain": [
       "\"[INST] <<SYS>>\\nAnalyse the question and answer with the best option.\\nHere is my question ###Question: All of the following provisions are included in the Primary health care according to the Alma Ata declaration except:\\n###Options:\\nA. Adequate supply of safe drinking water\\nB. Nutrition\\nC. Provision of free medicines\\nD. Basic sanitation[\\\\INST]  Great, let's analyze the question and answer options:\\n\\nQuestion: All of the following provisions are included in the Primary health care according to the Alma Ata declaration except:\\n\\nOptions:\\nA. Adequate supply of safe drinking water\\nB. Nutrition\\nC. Provision of free medicines\\nD. Basic sanitation\\n\\nThe Alma Ata declaration is a landmark international document that sets out the principles of primary health care. It was adopted by the World Health Organization (WHO) in 1978 and has since been widely adopted by countries around the world.\\n\\nThe declaration emphasizes the importance of primary health care as a foundation for achieving good health and well-being. It identifies the key components of primary health care, including:\\n\\n1. Health education and promotion\\n2. Prevention and treatment of illnesses and injuries\\n3. Management of common diseases and conditions\\n4. Referral and linkage to higher-level care when needed\\n5. Community participation and involvement in health care\\n\\nThe declaration also emphasizes the importance of addressing the social determinants of health, such as poverty, inequality, and social injustice, in order to improve health outcomes.\\n\\nNow, let's analyze the answer options:\\n\\nA. Adequate supply of safe drinking water: This is not included in the Alma Ata declaration as a provision of primary health care. While access to safe drinking water is important for good health, it is not a direct component of primary health care.\\n\\nB. Nutrition: Yes, nutrition is included in the Alma Ata declaration as a key component of primary health care. Good nutrition is essential for good health and well-being, and primary health care providers are expected to provide nutrition counseling and support.\\n\\nC. Provision of free medicines: This is not included in the Alma Ata declaration as a provision of primary health care. While access to free or low-cost medicines may be important in some contexts, it is not a fundamental component of primary health care.\\n\\nD. Basic sanitation: Yes, basic sanitation is included in the Alma Ata declaration as a provision of primary health care. Access to basic sanitation facilities, such as toilets and latrines\""
      ]
     },
     "execution_count": 51,
     "metadata": {},
     "output_type": "execute_result"
    }
   ],
   "source": [
    "%%time\n",
    "chat_llm_chain.predict(context = contexto)"
   ]
  }
 ],
 "metadata": {
  "kernelspec": {
   "display_name": "Python 3 (ipykernel)",
   "language": "python",
   "name": "python3"
  },
  "language_info": {
   "codemirror_mode": {
    "name": "ipython",
    "version": 3
   },
   "file_extension": ".py",
   "mimetype": "text/x-python",
   "name": "python",
   "nbconvert_exporter": "python",
   "pygments_lexer": "ipython3",
   "version": "3.12.5"
  }
 },
 "nbformat": 4,
 "nbformat_minor": 5
}
